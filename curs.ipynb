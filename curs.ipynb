{
 "cells": [
  {
   "cell_type": "code",
   "execution_count": 31,
   "metadata": {},
   "outputs": [],
   "source": [
    "import os\n",
    "import numpy\n",
    "import pandas as pd\n",
    "import matplotlib\n",
    "import matplotlib.pyplot as plt\n",
    "matplotlib.style.use('ggplot')\n",
    "%matplotlib inline"
   ]
  },
  {
   "cell_type": "code",
   "execution_count": 32,
   "metadata": {},
   "outputs": [],
   "source": [
    "os.chdir(\"C:/Users/Admin/Desktop/Python/Курс валют\")\n",
    "curs = pd.read_csv('curs.csv', sep=';', header=0, parse_dates=[0])"
   ]
  },
  {
   "cell_type": "code",
   "execution_count": 33,
   "metadata": {},
   "outputs": [],
   "source": [
    "#curs.head() #первые 5 записей\n",
    "#curs.shape  #размер матрицы\n",
    "#curs.tail() #последние 5 записей\n",
    "#curs.iloc[:,1].plot() #график"
   ]
  },
  {
   "cell_type": "code",
   "execution_count": 34,
   "metadata": {},
   "outputs": [
    {
     "name": "stdout",
     "output_type": "stream",
     "text": [
      "       t-5      t-4      t-3      t-2      t-1        t\n",
      "0      NaN      NaN      NaN      NaN      NaN  59.8961\n",
      "1      NaN      NaN      NaN      NaN  59.8961  59.9533\n",
      "2      NaN      NaN      NaN  59.8961  59.9533  60.1614\n",
      "3      NaN      NaN  59.8961  59.9533  60.1614  59.4978\n",
      "4      NaN  59.8961  59.9533  60.1614  59.4978  59.3700\n",
      "5  59.8961  59.9533  60.1614  59.4978  59.3700  59.6067\n",
      "6  59.9533  60.1614  59.4978  59.3700  59.6067  59.4015\n",
      "7  60.1614  59.4978  59.3700  59.6067  59.4015  59.1830\n",
      "8  59.4978  59.3700  59.6067  59.4015  59.1830  59.3521\n",
      "9  59.3700  59.6067  59.4015  59.1830  59.3521  59.6697\n"
     ]
    }
   ],
   "source": [
    "curs_2 = pd.DataFrame() \n",
    "\n",
    "for i in range(5,0,-1):\n",
    "    curs_2['t-'+str(i)] = curs.iloc[:,1].shift(i)\n",
    "\n",
    "curs_2['t'] = curs.iloc[:,1].values\n",
    "\n",
    "print(curs_2.head(n=10))"
   ]
  },
  {
   "cell_type": "code",
   "execution_count": 35,
   "metadata": {},
   "outputs": [
    {
     "data": {
      "text/html": [
       "<div>\n",
       "<style scoped>\n",
       "    .dataframe tbody tr th:only-of-type {\n",
       "        vertical-align: middle;\n",
       "    }\n",
       "\n",
       "    .dataframe tbody tr th {\n",
       "        vertical-align: top;\n",
       "    }\n",
       "\n",
       "    .dataframe thead th {\n",
       "        text-align: right;\n",
       "    }\n",
       "</style>\n",
       "<table border=\"1\" class=\"dataframe\">\n",
       "  <thead>\n",
       "    <tr style=\"text-align: right;\">\n",
       "      <th></th>\n",
       "      <th>t-5</th>\n",
       "      <th>t-4</th>\n",
       "      <th>t-3</th>\n",
       "      <th>t-2</th>\n",
       "      <th>t-1</th>\n",
       "      <th>t</th>\n",
       "    </tr>\n",
       "  </thead>\n",
       "  <tbody>\n",
       "    <tr>\n",
       "      <th>5</th>\n",
       "      <td>59.8961</td>\n",
       "      <td>59.9533</td>\n",
       "      <td>60.1614</td>\n",
       "      <td>59.4978</td>\n",
       "      <td>59.3700</td>\n",
       "      <td>59.6067</td>\n",
       "    </tr>\n",
       "    <tr>\n",
       "      <th>6</th>\n",
       "      <td>59.9533</td>\n",
       "      <td>60.1614</td>\n",
       "      <td>59.4978</td>\n",
       "      <td>59.3700</td>\n",
       "      <td>59.6067</td>\n",
       "      <td>59.4015</td>\n",
       "    </tr>\n",
       "    <tr>\n",
       "      <th>7</th>\n",
       "      <td>60.1614</td>\n",
       "      <td>59.4978</td>\n",
       "      <td>59.3700</td>\n",
       "      <td>59.6067</td>\n",
       "      <td>59.4015</td>\n",
       "      <td>59.1830</td>\n",
       "    </tr>\n",
       "    <tr>\n",
       "      <th>8</th>\n",
       "      <td>59.4978</td>\n",
       "      <td>59.3700</td>\n",
       "      <td>59.6067</td>\n",
       "      <td>59.4015</td>\n",
       "      <td>59.1830</td>\n",
       "      <td>59.3521</td>\n",
       "    </tr>\n",
       "    <tr>\n",
       "      <th>9</th>\n",
       "      <td>59.3700</td>\n",
       "      <td>59.6067</td>\n",
       "      <td>59.4015</td>\n",
       "      <td>59.1830</td>\n",
       "      <td>59.3521</td>\n",
       "      <td>59.6697</td>\n",
       "    </tr>\n",
       "  </tbody>\n",
       "</table>\n",
       "</div>"
      ],
      "text/plain": [
       "       t-5      t-4      t-3      t-2      t-1        t\n",
       "5  59.8961  59.9533  60.1614  59.4978  59.3700  59.6067\n",
       "6  59.9533  60.1614  59.4978  59.3700  59.6067  59.4015\n",
       "7  60.1614  59.4978  59.3700  59.6067  59.4015  59.1830\n",
       "8  59.4978  59.3700  59.6067  59.4015  59.1830  59.3521\n",
       "9  59.3700  59.6067  59.4015  59.1830  59.3521  59.6697"
      ]
     },
     "execution_count": 35,
     "metadata": {},
     "output_type": "execute_result"
    }
   ],
   "source": [
    "curs_4 = curs_2[5:]\n",
    "curs_4.head()"
   ]
  },
  {
   "cell_type": "code",
   "execution_count": 36,
   "metadata": {},
   "outputs": [],
   "source": [
    "y = curs_4['t']\n",
    "X = curs_4.drop('t', axis=1)"
   ]
  },
  {
   "cell_type": "code",
   "execution_count": 37,
   "metadata": {},
   "outputs": [],
   "source": [
    "X_train = X[:200]\n",
    "y_train = y[:200]\n",
    "X_test  = X[200:]\n",
    "y_test  = y[200:]"
   ]
  },
  {
   "cell_type": "code",
   "execution_count": 38,
   "metadata": {},
   "outputs": [
    {
     "name": "stdout",
     "output_type": "stream",
     "text": [
      "(463, 6)\n",
      "(200, 5)\n",
      "(200,)\n",
      "(263, 5)\n",
      "(263,)\n"
     ]
    }
   ],
   "source": [
    "print(curs_4.shape)\n",
    "print(X_train.shape)\n",
    "print(y_train.shape)\n",
    "print(X_test.shape)\n",
    "print(y_test.shape)"
   ]
  },
  {
   "cell_type": "code",
   "execution_count": 39,
   "metadata": {},
   "outputs": [],
   "source": [
    "#print(X_train.head())"
   ]
  },
  {
   "cell_type": "code",
   "execution_count": 40,
   "metadata": {},
   "outputs": [],
   "source": [
    "#преобразование pandas dataframe в numpy array\n",
    "X_train = X_train.values\n",
    "X_test = X_test.values\n",
    "y_train = y_train.values\n",
    "y_test = y_test.values"
   ]
  },
  {
   "cell_type": "code",
   "execution_count": 41,
   "metadata": {},
   "outputs": [],
   "source": [
    "from keras.models import Sequential\n",
    "from keras.layers import Dense"
   ]
  },
  {
   "cell_type": "code",
   "execution_count": 42,
   "metadata": {},
   "outputs": [
    {
     "name": "stdout",
     "output_type": "stream",
     "text": [
      "Epoch 1/25\n",
      "200/200 [==============================] - 0s 2ms/step - loss: 13969.2641 - mean_absolute_percentage_error: 203.0974\n",
      "Epoch 2/25\n",
      "200/200 [==============================] - 0s 74us/step - loss: 11506.4298 - mean_absolute_percentage_error: 184.3204\n",
      "Epoch 3/25\n",
      "200/200 [==============================] - 0s 90us/step - loss: 9319.7860 - mean_absolute_percentage_error: 165.8569\n",
      "Epoch 4/25\n",
      "200/200 [==============================] - 0s 95us/step - loss: 7415.6874 - mean_absolute_percentage_error: 147.9535\n",
      "Epoch 5/25\n",
      "200/200 [==============================] - 0s 96us/step - loss: 5792.1950 - mean_absolute_percentage_error: 130.7682\n",
      "Epoch 6/25\n",
      "200/200 [==============================] - 0s 100us/step - loss: 4436.4941 - mean_absolute_percentage_error: 114.4333\n",
      "Epoch 7/25\n",
      "200/200 [==============================] - 0s 85us/step - loss: 3331.1963 - mean_absolute_percentage_error: 99.1219\n",
      "Epoch 8/25\n",
      "200/200 [==============================] - 0s 95us/step - loss: 2444.6636 - mean_absolute_percentage_error: 84.9213\n",
      "Epoch 9/25\n",
      "200/200 [==============================] - 0s 85us/step - loss: 1752.5992 - mean_absolute_percentage_error: 71.8831\n",
      "Epoch 10/25\n",
      "200/200 [==============================] - 0s 104us/step - loss: 1223.2649 - mean_absolute_percentage_error: 60.0347\n",
      "Epoch 11/25\n",
      "200/200 [==============================] - 0s 95us/step - loss: 828.1130 - mean_absolute_percentage_error: 49.3941\n",
      "Epoch 12/25\n",
      "200/200 [==============================] - 0s 90us/step - loss: 544.1236 - mean_absolute_percentage_error: 40.0235\n",
      "Epoch 13/25\n",
      "200/200 [==============================] - 0s 75us/step - loss: 345.6781 - mean_absolute_percentage_error: 31.8817\n",
      "Epoch 14/25\n",
      "200/200 [==============================] - 0s 90us/step - loss: 211.5512 - mean_absolute_percentage_error: 24.9268\n",
      "Epoch 15/25\n",
      "200/200 [==============================] - 0s 77us/step - loss: 124.4419 - mean_absolute_percentage_error: 19.1001\n",
      "Epoch 16/25\n",
      "200/200 [==============================] - 0s 65us/step - loss: 70.1878 - mean_absolute_percentage_error: 14.3088\n",
      "Epoch 17/25\n",
      "200/200 [==============================] - 0s 80us/step - loss: 37.6066 - mean_absolute_percentage_error: 10.4510\n",
      "Epoch 18/25\n",
      "200/200 [==============================] - 0s 61us/step - loss: 19.2419 - mean_absolute_percentage_error: 7.4194\n",
      "Epoch 19/25\n",
      "200/200 [==============================] - 0s 100us/step - loss: 9.3418 - mean_absolute_percentage_error: 5.0928\n",
      "Epoch 20/25\n",
      "200/200 [==============================] - 0s 85us/step - loss: 4.3244 - mean_absolute_percentage_error: 3.3696\n",
      "Epoch 21/25\n",
      "200/200 [==============================] - 0s 100us/step - loss: 1.9797 - mean_absolute_percentage_error: 2.1595\n",
      "Epoch 22/25\n",
      "200/200 [==============================] - 0s 90us/step - loss: 0.9800 - mean_absolute_percentage_error: 1.4062\n",
      "Epoch 23/25\n",
      "200/200 [==============================] - 0s 60us/step - loss: 0.5852 - mean_absolute_percentage_error: 1.0365\n",
      "Epoch 24/25\n",
      "200/200 [==============================] - 0s 70us/step - loss: 0.4476 - mean_absolute_percentage_error: 0.8920\n",
      "Epoch 25/25\n",
      "200/200 [==============================] - 0s 70us/step - loss: 0.4148 - mean_absolute_percentage_error: 0.8608\n"
     ]
    },
    {
     "data": {
      "text/plain": [
       "<keras.callbacks.History at 0x25b4e947208>"
      ]
     },
     "execution_count": 42,
     "metadata": {},
     "output_type": "execute_result"
    }
   ],
   "source": [
    "#обучение нейронной сети \n",
    "model = Sequential()\n",
    "model.add(Dense(10, input_dim=5, activation='linear'))\n",
    "model.add(Dense(1, activation='linear'))\n",
    "\n",
    "model.compile(loss='mean_squared_error', optimizer='adam', metrics=['mean_absolute_percentage_error'])\n",
    "\n",
    "model.fit(X_train, y_train, epochs=25, batch_size=None)"
   ]
  },
  {
   "cell_type": "code",
   "execution_count": 43,
   "metadata": {},
   "outputs": [],
   "source": [
    "predictions_train = model.predict(X_train)\n",
    "predictions = model.predict(X_test)"
   ]
  },
  {
   "cell_type": "code",
   "execution_count": 44,
   "metadata": {},
   "outputs": [
    {
     "name": "stdout",
     "output_type": "stream",
     "text": [
      "(200, 5)\n",
      "(200,)\n",
      "(263, 5)\n",
      "(263,)\n"
     ]
    }
   ],
   "source": [
    "# Вспоминаем размеры таблиц\n",
    "print(X_train.shape)\n",
    "print(y_train.shape)\n",
    "print(X_test.shape)\n",
    "print(y_test.shape)"
   ]
  },
  {
   "cell_type": "code",
   "execution_count": 46,
   "metadata": {},
   "outputs": [
    {
     "data": {
      "text/plain": [
       "[<matplotlib.lines.Line2D at 0x25b4edd3630>]"
      ]
     },
     "execution_count": 46,
     "metadata": {},
     "output_type": "execute_result"
    },
    {
     "data": {
      "image/png": "[encoded data removed]",
      "text/plain": [
       "<Figure size 432x288 with 1 Axes>"
      ]
     },
     "metadata": {},
     "output_type": "display_data"
    }
   ],
   "source": [
    "x2 = numpy.arange(0, 200, 1)\n",
    "x3 = numpy.arange(200, 463, 1)\n",
    "\n",
    "plt.plot(x2, y_train, color='blue')\n",
    "plt.plot(x2, predictions_train, color='green')\n",
    "plt.plot(x3, y_test, color='blue')\n",
    "plt.plot(x3, predictions, color='red')"
   ]
  },
  {
   "cell_type": "code",
   "execution_count": null,
   "metadata": {},
   "outputs": [],
   "source": []
  }
 ],
 "metadata": {
  "kernelspec": {
   "display_name": "Python 3",
   "language": "python",
   "name": "python3"
  },
  "language_info": {
   "codemirror_mode": {
    "name": "ipython",
    "version": 3
   },
   "file_extension": ".py",
   "mimetype": "text/x-python",
   "name": "python",
   "nbconvert_exporter": "python",
   "pygments_lexer": "ipython3",
   "version": "3.6.5"
  }
 },
 "nbformat": 4,
 "nbformat_minor": 2
}
